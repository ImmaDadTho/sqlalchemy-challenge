{
 "cells": [
  {
   "cell_type": "code",
   "execution_count": 1,
   "metadata": {},
   "outputs": [],
   "source": [
    "%matplotlib inline\n",
    "from matplotlib import style\n",
    "style.use('fivethirtyeight')\n",
    "import matplotlib.pyplot as plt"
   ]
  },
  {
   "cell_type": "code",
   "execution_count": 2,
   "metadata": {},
   "outputs": [],
   "source": [
    "import numpy as np\n",
    "import pandas as pd\n",
    "import datetime as dt"
   ]
  },
  {
   "cell_type": "markdown",
   "metadata": {},
   "source": [
    "# Reflect Tables into SQLAlchemy ORM"
   ]
  },
  {
   "cell_type": "code",
   "execution_count": 31,
   "metadata": {},
   "outputs": [],
   "source": [
    "# Python SQL toolkit and Object Relational Mapper\n",
    "import sqlalchemy\n",
    "from sqlalchemy.ext.automap import automap_base\n",
    "from sqlalchemy.orm import Session\n",
    "from sqlalchemy import create_engine, func, inspect, desc"
   ]
  },
  {
   "cell_type": "code",
   "execution_count": 6,
   "metadata": {},
   "outputs": [],
   "source": [
    "# create engine to hawaii.sqlite\n",
    "engine = create_engine(\"sqlite:///Resources/hawaii.sqlite\")"
   ]
  },
  {
   "cell_type": "code",
   "execution_count": 8,
   "metadata": {},
   "outputs": [],
   "source": [
    "# reflect an existing database into a new model\n",
    "Base = automap_base()\n",
    "\n",
    "# reflect the tables\n",
    "Base.prepare(engine, reflect=True)"
   ]
  },
  {
   "cell_type": "code",
   "execution_count": 9,
   "metadata": {},
   "outputs": [
    {
     "data": {
      "text/plain": [
       "['measurement', 'station']"
      ]
     },
     "execution_count": 9,
     "metadata": {},
     "output_type": "execute_result"
    }
   ],
   "source": [
    "# View all of the classes that automap found\n",
    "Base.classes.keys()"
   ]
  },
  {
   "cell_type": "code",
   "execution_count": 15,
   "metadata": {},
   "outputs": [],
   "source": [
    "# Save references to each table\n",
    "Measurement = Base.classes.measurement\n",
    "Station = Base.classes.station"
   ]
  },
  {
   "cell_type": "code",
   "execution_count": 16,
   "metadata": {},
   "outputs": [],
   "source": [
    "# Create our session (link) from Python to the DB\n",
    "session = Session(engine)"
   ]
  },
  {
   "cell_type": "markdown",
   "metadata": {},
   "source": [
    "# Exploratory Precipitation Analysis"
   ]
  },
  {
   "cell_type": "code",
   "execution_count": 58,
   "metadata": {},
   "outputs": [
    {
     "name": "stdout",
     "output_type": "stream",
     "text": [
      "id INTEGER\n",
      "station TEXT\n",
      "date TEXT\n",
      "prcp FLOAT\n",
      "tobs FLOAT\n"
     ]
    }
   ],
   "source": [
    "#check column values for a date row \n",
    "inspector = inspect(engine)\n",
    "columns = inspector.get_columns('measurement')\n",
    "for c in columns:\n",
    "    print(c['name'], c[\"type\"])"
   ]
  },
  {
   "cell_type": "code",
   "execution_count": 59,
   "metadata": {},
   "outputs": [
    {
     "data": {
      "text/plain": [
       "('2017-08-23',)"
      ]
     },
     "execution_count": 59,
     "metadata": {},
     "output_type": "execute_result"
    }
   ],
   "source": [
    "# Find the most recent date in the data set.\n",
    "Recentdate = session.query(Measurement.date).order_by(Measurement.date.desc()).first()\n",
    "Recentdate"
   ]
  },
  {
   "cell_type": "code",
   "execution_count": 64,
   "metadata": {},
   "outputs": [
    {
     "data": {
      "text/plain": [
       "[('2010-01-01', 0.08),\n",
       " ('2010-01-02', 0.0),\n",
       " ('2010-01-06', None),\n",
       " ('2010-01-07', 0.06),\n",
       " ('2010-01-11', 0.01),\n",
       " ('2010-01-26', 0.04),\n",
       " ('2010-01-27', 0.12),\n",
       " ('2010-01-30', 1.7),\n",
       " ('2010-01-30', 2.17),\n",
       " ('2010-01-30', 2.75),\n",
       " ('2010-01-31', 0.03),\n",
       " ('2010-02-12', 0.02),\n",
       " ('2010-02-22', 0.87),\n",
       " ('2010-03-04', 1.41),\n",
       " ('2010-03-08', 0.34),\n",
       " ('2010-03-08', 0.43),\n",
       " ('2010-03-18', 0.44),\n",
       " ('2010-04-03', 0.17),\n",
       " ('2010-04-04', 0.15),\n",
       " ('2010-04-04', 2.56),\n",
       " ('2010-04-05', 0.27),\n",
       " ('2010-04-06', 1.83),\n",
       " ('2010-04-07', 2.12),\n",
       " ('2010-04-07', 3.99),\n",
       " ('2010-05-03', 0.2),\n",
       " ('2010-05-07', 0.05),\n",
       " ('2010-07-03', 0.09),\n",
       " ('2010-07-03', 0.84),\n",
       " ('2010-07-18', 2.14),\n",
       " ('2010-08-04', 0.07),\n",
       " ('2010-08-04', 1.89),\n",
       " ('2010-09-30', 0.57),\n",
       " ('2010-10-01', 0.31),\n",
       " ('2010-10-19', 4.01),\n",
       " ('2010-11-04', 1.34),\n",
       " ('2010-11-05', 2.64),\n",
       " ('2010-11-06', 4.56),\n",
       " ('2010-11-10', 0.23),\n",
       " ('2010-11-28', 0.49),\n",
       " ('2010-12-09', 1.43),\n",
       " ('2010-12-10', 1.58),\n",
       " ('2010-12-10', 1.86),\n",
       " ('2010-12-10', 1.95),\n",
       " ('2010-12-10', 2.02),\n",
       " ('2010-12-10', 2.5),\n",
       " ('2010-12-11', 0.77),\n",
       " ('2010-12-19', 1.4),\n",
       " ('2010-12-19', 2.43),\n",
       " ('2010-12-19', 2.86),\n",
       " ('2010-12-19', 3.18),\n",
       " ('2010-12-20', 2.55),\n",
       " ('2010-12-20', 3.05),\n",
       " ('2010-12-20', 3.06),\n",
       " ('2010-12-20', 4.94),\n",
       " ('2010-12-20', 4.95),\n",
       " ('2010-12-25', 2.95),\n",
       " ('2010-12-25', 3.14),\n",
       " ('2010-12-26', 0.99),\n",
       " ('2010-12-26', 2.49),\n",
       " ('2010-12-26', 3.0),\n",
       " ('2010-12-27', 0.13),\n",
       " ('2010-12-28', 0.55),\n",
       " ('2010-12-28', 0.63),\n",
       " ('2010-12-28', 0.96),\n",
       " ('2011-01-12', 1.15),\n",
       " ('2011-01-13', 2.27),\n",
       " ('2011-01-13', 3.44),\n",
       " ('2011-01-13', 3.62),\n",
       " ('2011-01-13', 3.91),\n",
       " ('2011-01-13', 5.21),\n",
       " ('2011-01-13', 6.3),\n",
       " ('2011-01-13', 8.81),\n",
       " ('2011-01-31', 0.22),\n",
       " ('2011-02-07', 1.06),\n",
       " ('2011-02-07', 1.29),\n",
       " ('2011-02-08', 1.3),\n",
       " ('2011-02-08', 1.49),\n",
       " ('2011-02-10', 0.29),\n",
       " ('2011-02-11', 0.98),\n",
       " ('2011-02-12', 1.54),\n",
       " ('2011-02-12', 1.82),\n",
       " ('2011-02-13', 1.47),\n",
       " ('2011-02-20', 1.72),\n",
       " ('2011-02-20', 2.69),\n",
       " ('2011-02-20', 4.88),\n",
       " ('2011-02-22', 0.82),\n",
       " ('2011-02-24', 3.3),\n",
       " ('2011-02-24', 3.33),\n",
       " ('2011-03-01', 0.1),\n",
       " ('2011-03-04', 0.88),\n",
       " ('2011-03-04', 1.05),\n",
       " ('2011-03-04', 1.42),\n",
       " ('2011-03-05', 0.4),\n",
       " ('2011-03-06', 1.16),\n",
       " ('2011-03-10', 1.33),\n",
       " ('2011-04-07', 0.68),\n",
       " ('2011-04-07', 1.11),\n",
       " ('2011-04-07', 3.35),\n",
       " ('2011-04-08', 0.36),\n",
       " ('2011-05-03', 2.1),\n",
       " ('2011-05-06', 2.07),\n",
       " ('2011-05-08', 1.76),\n",
       " ('2011-05-08', 2.26),\n",
       " ('2011-05-10', 0.11),\n",
       " ('2011-05-11', 0.92),\n",
       " ('2011-06-03', 0.56),\n",
       " ('2011-06-03', 1.75),\n",
       " ('2011-06-03', 2.0),\n",
       " ('2011-06-04', 0.89),\n",
       " ('2011-06-04', 1.14),\n",
       " ('2011-06-04', 4.43),\n",
       " ('2011-06-05', 3.6),\n",
       " ('2011-06-05', 4.02),\n",
       " ('2011-07-30', 0.61),\n",
       " ('2011-10-23', 1.56),\n",
       " ('2011-10-24', 0.14),\n",
       " ('2011-10-24', 4.47),\n",
       " ('2011-10-25', 1.6),\n",
       " ('2011-11-01', 0.58),\n",
       " ('2011-11-01', 1.68),\n",
       " ('2011-11-02', 0.28),\n",
       " ('2011-12-13', 1.55),\n",
       " ('2011-12-13', 2.8),\n",
       " ('2011-12-13', 6.42),\n",
       " ('2011-12-14', 0.7),\n",
       " ('2011-12-21', 0.18),\n",
       " ('2012-01-18', 1.26),\n",
       " ('2012-01-29', 1.03),\n",
       " ('2012-02-07', 0.37),\n",
       " ('2012-03-03', 4.68),\n",
       " ('2012-03-05', 1.08),\n",
       " ('2012-03-05', 2.71),\n",
       " ('2012-03-05', 5.37),\n",
       " ('2012-03-05', 5.71),\n",
       " ('2012-03-05', 6.24),\n",
       " ('2012-03-06', 1.88),\n",
       " ('2012-03-06', 2.33),\n",
       " ('2012-03-06', 2.59),\n",
       " ('2012-03-06', 2.83),\n",
       " ('2012-03-06', 4.0),\n",
       " ('2012-03-06', 6.38),\n",
       " ('2012-03-07', 2.41),\n",
       " ('2012-03-07', 2.42),\n",
       " ('2012-03-07', 2.63),\n",
       " ('2012-03-07', 5.32),\n",
       " ('2012-03-08', 0.59),\n",
       " ('2012-03-08', 2.09),\n",
       " ('2012-03-09', 0.19),\n",
       " ('2012-03-09', 3.23),\n",
       " ('2012-03-09', 4.6),\n",
       " ('2012-03-10', 3.47),\n",
       " ('2012-04-09', 3.27),\n",
       " ('2012-07-29', 2.87),\n",
       " ('2012-08-28', 1.0),\n",
       " ('2012-09-09', 2.57),\n",
       " ('2012-12-05', 1.02),\n",
       " ('2013-01-02', 2.13),\n",
       " ('2013-01-03', 5.96),\n",
       " ('2013-01-04', 2.92),\n",
       " ('2013-01-15', 1.27),\n",
       " ('2013-01-24', 0.71),\n",
       " ('2013-01-28', 1.13),\n",
       " ('2013-01-28', 2.48),\n",
       " ('2013-01-28', 2.6),\n",
       " ('2013-01-28', 2.84),\n",
       " ('2013-02-22', 0.83),\n",
       " ('2013-02-22', 1.5),\n",
       " ('2013-02-22', 2.81),\n",
       " ('2013-02-23', 1.85),\n",
       " ('2013-03-10', 1.69),\n",
       " ('2013-03-11', 0.8),\n",
       " ('2013-03-11', 1.48),\n",
       " ('2013-03-25', 0.32),\n",
       " ('2013-03-28', 0.3),\n",
       " ('2013-03-31', 0.25),\n",
       " ('2013-04-24', 1.39),\n",
       " ('2013-04-24', 1.52),\n",
       " ('2013-04-24', 2.05),\n",
       " ('2013-04-25', 0.94),\n",
       " ('2013-05-13', 0.95),\n",
       " ('2013-05-13', 3.88),\n",
       " ('2013-05-20', 1.96),\n",
       " ('2013-05-29', 1.87),\n",
       " ('2013-05-30', 4.07),\n",
       " ('2013-06-24', 0.35),\n",
       " ('2013-07-30', 0.74),\n",
       " ('2013-08-10', 1.67),\n",
       " ('2013-08-10', 1.9),\n",
       " ('2013-08-10', 3.79),\n",
       " ('2013-08-10', 4.32),\n",
       " ('2013-10-12', 1.77),\n",
       " ('2013-11-09', 2.21),\n",
       " ('2013-11-10', 1.98),\n",
       " ('2013-11-10', 2.77),\n",
       " ('2013-11-10', 3.03),\n",
       " ('2013-11-10', 4.76),\n",
       " ('2013-11-10', 8.06),\n",
       " ('2013-12-02', 2.01),\n",
       " ('2013-12-02', 2.25),\n",
       " ('2013-12-16', 1.1),\n",
       " ('2013-12-16', 1.31),\n",
       " ('2013-12-16', 1.97),\n",
       " ('2013-12-19', 0.16),\n",
       " ('2014-01-03', 0.76),\n",
       " ('2014-01-03', 1.59),\n",
       " ('2014-02-02', 0.38),\n",
       " ('2014-02-04', 0.5),\n",
       " ('2014-02-04', 1.12),\n",
       " ('2014-02-08', 1.81),\n",
       " ('2014-02-15', 2.97),\n",
       " ('2014-02-19', 0.81),\n",
       " ('2014-03-02', 0.48),\n",
       " ('2014-03-08', 0.64),\n",
       " ('2014-03-09', 3.4),\n",
       " ('2014-03-10', 1.65),\n",
       " ('2014-03-11', 0.78),\n",
       " ('2014-03-28', 3.86),\n",
       " ('2014-04-27', 2.44),\n",
       " ('2014-05-12', 0.45),\n",
       " ('2014-05-12', 2.79),\n",
       " ('2014-06-02', 0.66),\n",
       " ('2014-07-20', 1.09),\n",
       " ('2014-07-20', 4.3),\n",
       " ('2014-07-20', 5.54),\n",
       " ('2014-07-20', 5.98),\n",
       " ('2014-07-20', 7.97),\n",
       " ('2014-07-20', 11.53),\n",
       " ('2014-07-27', 0.79),\n",
       " ('2014-08-09', 1.2),\n",
       " ('2014-09-02', 1.37),\n",
       " ('2014-09-05', 0.39),\n",
       " ('2014-10-01', 1.71),\n",
       " ('2014-10-06', 0.24),\n",
       " ('2014-10-07', 1.22),\n",
       " ('2014-10-19', 2.06),\n",
       " ('2014-10-19', 2.45),\n",
       " ('2014-10-19', 2.61),\n",
       " ('2014-10-19', 3.48),\n",
       " ('2014-10-20', 1.38),\n",
       " ('2014-10-20', 1.84),\n",
       " ('2014-10-20', 2.31),\n",
       " ('2014-11-15', 0.62),\n",
       " ('2014-12-04', 1.35),\n",
       " ('2014-12-04', 1.51),\n",
       " ('2014-12-23', 0.93),\n",
       " ('2014-12-23', 4.03),\n",
       " ('2014-12-24', 1.24),\n",
       " ('2014-12-31', 0.72),\n",
       " ('2015-01-03', 0.86),\n",
       " ('2015-01-03', 1.23),\n",
       " ('2015-01-03', 1.46),\n",
       " ('2015-02-15', 0.46),\n",
       " ('2015-02-15', 0.97),\n",
       " ('2015-03-05', 0.65),\n",
       " ('2015-03-26', 0.26),\n",
       " ('2015-03-29', 0.41),\n",
       " ('2015-03-29', 1.94),\n",
       " ('2015-03-31', 0.6),\n",
       " ('2015-04-28', 3.26),\n",
       " ('2015-05-23', 1.44),\n",
       " ('2015-06-01', 2.47),\n",
       " ('2015-06-25', 1.36),\n",
       " ('2015-07-10', 2.23),\n",
       " ('2015-08-15', 1.28),\n",
       " ('2015-08-24', 0.42),\n",
       " ('2015-08-24', 3.43),\n",
       " ('2015-08-24', 3.7),\n",
       " ('2015-08-24', 4.81),\n",
       " ('2015-08-27', 2.29),\n",
       " ('2015-08-27', 2.67),\n",
       " ('2015-08-27', 2.96),\n",
       " ('2015-09-04', 0.52),\n",
       " ('2015-09-12', 2.7),\n",
       " ('2015-09-12', 3.1),\n",
       " ('2015-09-15', 6.83),\n",
       " ('2015-09-28', 4.18),\n",
       " ('2015-10-12', 3.85),\n",
       " ('2015-10-13', 1.8),\n",
       " ('2015-10-13', 2.24),\n",
       " ('2015-10-14', 1.21),\n",
       " ('2015-11-14', 0.53),\n",
       " ('2015-11-20', 1.57),\n",
       " ('2015-11-20', 1.92),\n",
       " ('2015-11-20', 3.38),\n",
       " ('2015-11-21', 0.85),\n",
       " ('2015-11-21', 1.61),\n",
       " ('2015-11-21', 1.66),\n",
       " ('2015-11-21', 2.3),\n",
       " ('2015-11-22', 0.33),\n",
       " ('2015-11-24', 0.75),\n",
       " ('2015-11-26', 3.68),\n",
       " ('2015-11-27', 0.91),\n",
       " ('2015-12-14', 0.69),\n",
       " ('2016-02-17', 0.21),\n",
       " ('2016-03-23', 1.78),\n",
       " ('2016-04-18', 5.09),\n",
       " ('2016-05-07', 1.53),\n",
       " ('2016-05-26', 1.04),\n",
       " ('2016-05-29', 0.54),\n",
       " ('2016-05-31', 1.18),\n",
       " ('2016-07-18', 1.25),\n",
       " ('2016-07-25', 3.01),\n",
       " ('2016-07-25', 4.2),\n",
       " ('2016-07-25', 5.35),\n",
       " ('2016-07-25', 7.65),\n",
       " ('2016-07-25', 9.64),\n",
       " ('2016-08-01', 2.35),\n",
       " ('2016-08-01', 3.53),\n",
       " ('2016-08-22', 2.32),\n",
       " ('2016-08-23', 1.79),\n",
       " ('2016-08-24', 2.15),\n",
       " ('2016-08-24', 2.28),\n",
       " ('2016-08-31', 2.46),\n",
       " ('2016-09-14', 0.9),\n",
       " ('2016-09-14', 1.32),\n",
       " ('2016-09-14', 6.7),\n",
       " ('2016-10-04', 3.46),\n",
       " ('2016-11-22', 2.11),\n",
       " ('2016-12-30', 2.37),\n",
       " ('2017-02-07', 0.51),\n",
       " ('2017-02-11', 1.73),\n",
       " ('2017-02-11', 2.39),\n",
       " ('2017-02-11', 5.04),\n",
       " ('2017-02-12', 1.07),\n",
       " ('2017-02-12', 1.91),\n",
       " ('2017-02-12', 2.62),\n",
       " ('2017-02-12', 2.98),\n",
       " ('2017-02-13', 2.9),\n",
       " ('2017-02-16', 0.67),\n",
       " ('2017-03-01', 1.19),\n",
       " ('2017-03-01', 2.2),\n",
       " ('2017-03-01', 2.4),\n",
       " ('2017-03-02', 0.73),\n",
       " ('2017-03-02', 1.45),\n",
       " ('2017-03-03', 0.47),\n",
       " ('2017-04-14', 2.82),\n",
       " ('2017-04-18', 2.03),\n",
       " ('2017-04-21', 1.74),\n",
       " ('2017-04-21', 2.36),\n",
       " ('2017-04-22', 1.01),\n",
       " ('2017-04-29', 6.25),\n",
       " ('2017-04-30', 1.17),\n",
       " ('2017-05-09', 1.62)]"
      ]
     },
     "execution_count": 64,
     "metadata": {},
     "output_type": "execute_result"
    }
   ],
   "source": [
    "# Design a query to retrieve the last 12 months of precipitation data and plot the results. \n",
    "# Starting from the most recent data point in the database. \n",
    "\n",
    "# Calculate the date one year from the last date in data set.\n",
    "oneYearAgo = dt.date(2017,8,23)- dt.timedelta(days=365)\n",
    "\n",
    "# Perform a query to retrieve the data and precipitation scores\n",
    "\n",
    "preci = [\n",
    "        Measurement.date,\n",
    "        Measurement.prcp\n",
    "]\n",
    "yearprcp = session.query(*preci).filter(Measurement.date).group_by(Measurement.prcp).order_by(Measurement.date).all()\n",
    "\n",
    "# Save the query results as a Pandas DataFrame and set the index to the date column\n",
    "\n",
    "\n",
    "# Sort the dataframe by date\n",
    "\n",
    "\n",
    "# Use Pandas Plotting with Matplotlib to plot the data\n",
    "\n",
    "yearprcp"
   ]
  },
  {
   "cell_type": "code",
   "execution_count": null,
   "metadata": {},
   "outputs": [],
   "source": [
    "# Use Pandas to calcualte the summary statistics for the precipitation data\n"
   ]
  },
  {
   "cell_type": "markdown",
   "metadata": {},
   "source": [
    "# Exploratory Station Analysis"
   ]
  },
  {
   "cell_type": "code",
   "execution_count": null,
   "metadata": {},
   "outputs": [],
   "source": [
    "# Design a query to calculate the total number stations in the dataset\n"
   ]
  },
  {
   "cell_type": "code",
   "execution_count": null,
   "metadata": {},
   "outputs": [],
   "source": [
    "# Design a query to find the most active stations (i.e. what stations have the most rows?)\n",
    "# List the stations and the counts in descending order.\n"
   ]
  },
  {
   "cell_type": "code",
   "execution_count": null,
   "metadata": {},
   "outputs": [],
   "source": [
    "# Using the most active station id from the previous query, calculate the lowest, highest, and average temperature.\n"
   ]
  },
  {
   "cell_type": "code",
   "execution_count": null,
   "metadata": {},
   "outputs": [],
   "source": [
    "# Using the most active station id\n",
    "# Query the last 12 months of temperature observation data for this station and plot the results as a histogram\n"
   ]
  },
  {
   "cell_type": "markdown",
   "metadata": {},
   "source": [
    "# Close session"
   ]
  },
  {
   "cell_type": "code",
   "execution_count": null,
   "metadata": {},
   "outputs": [],
   "source": [
    "# Close Session\n",
    "session.close()"
   ]
  },
  {
   "cell_type": "code",
   "execution_count": null,
   "metadata": {},
   "outputs": [],
   "source": []
  }
 ],
 "metadata": {
  "anaconda-cloud": {},
  "kernel_info": {
   "name": "python3"
  },
  "kernelspec": {
   "display_name": "Python 3 (ipykernel)",
   "language": "python",
   "name": "python3"
  },
  "language_info": {
   "codemirror_mode": {
    "name": "ipython",
    "version": 3
   },
   "file_extension": ".py",
   "mimetype": "text/x-python",
   "name": "python",
   "nbconvert_exporter": "python",
   "pygments_lexer": "ipython3",
   "version": "3.9.12"
  },
  "nteract": {
   "version": "0.12.3"
  },
  "varInspector": {
   "cols": {
    "lenName": 16,
    "lenType": 16,
    "lenVar": 40
   },
   "kernels_config": {
    "python": {
     "delete_cmd_postfix": "",
     "delete_cmd_prefix": "del ",
     "library": "var_list.py",
     "varRefreshCmd": "print(var_dic_list())"
    },
    "r": {
     "delete_cmd_postfix": ") ",
     "delete_cmd_prefix": "rm(",
     "library": "var_list.r",
     "varRefreshCmd": "cat(var_dic_list()) "
    }
   },
   "types_to_exclude": [
    "module",
    "function",
    "builtin_function_or_method",
    "instance",
    "_Feature"
   ],
   "window_display": false
  }
 },
 "nbformat": 4,
 "nbformat_minor": 2
}
